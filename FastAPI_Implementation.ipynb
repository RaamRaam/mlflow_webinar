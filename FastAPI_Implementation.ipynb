{
 "cells": [
  {
   "cell_type": "code",
   "execution_count": null,
   "id": "5e8fe35d",
   "metadata": {
    "ExecuteTime": {
     "end_time": "2022-03-04T16:13:58.250642Z",
     "start_time": "2022-03-04T16:13:57.065017Z"
    }
   },
   "outputs": [],
   "source": [
    "from sklearn import datasets\n",
    "from sklearn.model_selection import train_test_split\n",
    "from sklearn.ensemble import RandomForestClassifier\n",
    "from sklearn.metrics import accuracy_score\n",
    "import pickle\n",
    "\n",
    "import pandas as pd\n"
   ]
  },
  {
   "cell_type": "code",
   "execution_count": null,
   "id": "1e10bee3",
   "metadata": {
    "ExecuteTime": {
     "end_time": "2022-03-04T16:13:58.837870Z",
     "start_time": "2022-03-04T16:13:58.814163Z"
    }
   },
   "outputs": [],
   "source": [
    "iris = datasets.load_iris()\n",
    "len(iris.data),len(iris.target), iris.feature_names"
   ]
  },
  {
   "cell_type": "code",
   "execution_count": null,
   "id": "b7eb4000",
   "metadata": {
    "ExecuteTime": {
     "end_time": "2022-03-04T16:14:01.553673Z",
     "start_time": "2022-03-04T16:14:01.544872Z"
    }
   },
   "outputs": [],
   "source": [
    "X_train,X_test,y_train,y_test=train_test_split(iris.data,iris.target,test_size=0.3,random_state=0)\n",
    "len(X_train),len(y_train),len(X_test),len(y_test)"
   ]
  },
  {
   "cell_type": "code",
   "execution_count": null,
   "id": "4dcfdb04",
   "metadata": {
    "ExecuteTime": {
     "end_time": "2022-03-04T16:14:04.526774Z",
     "start_time": "2022-03-04T16:14:04.396035Z"
    }
   },
   "outputs": [],
   "source": [
    "classifier=RandomForestClassifier()\n",
    "classifier.fit(X_train,y_train)\n",
    "y_pred=classifier.predict(X_test)\n",
    "score=accuracy_score(y_test,y_pred)\n",
    "print(score)"
   ]
  },
  {
   "cell_type": "code",
   "execution_count": null,
   "id": "100296d4",
   "metadata": {
    "ExecuteTime": {
     "end_time": "2022-03-04T16:15:48.738803Z",
     "start_time": "2022-03-04T16:15:48.714432Z"
    }
   },
   "outputs": [],
   "source": [
    "classifier.predict([[5,2,3,1]])\n",
    "classifier.predict([[1,2,3,4]])\n",
    "classifier.predict([[1,1,1,1]])"
   ]
  },
  {
   "cell_type": "code",
   "execution_count": null,
   "id": "de198251",
   "metadata": {
    "ExecuteTime": {
     "end_time": "2022-03-04T16:36:48.416500Z",
     "start_time": "2022-03-04T16:36:48.402023Z"
    }
   },
   "outputs": [],
   "source": [
    "pickle_out = open(\"classifier.pkl\",\"wb\")\n",
    "pickle.dump(classifier, pickle_out)\n",
    "pickle_out.close()"
   ]
  },
  {
   "cell_type": "code",
   "execution_count": null,
   "id": "5063b500",
   "metadata": {},
   "outputs": [],
   "source": [
    "\n"
   ]
  }
 ],
 "metadata": {
  "kernelspec": {
   "display_name": "Python 3.8.8 64-bit ('base': conda)",
   "language": "python",
   "name": "python388jvsc74a57bd0f057d8a7630d4c306a857478ff60c421a0ef9e2cd017ebe477885a3a3869c690"
  },
  "language_info": {
   "codemirror_mode": {
    "name": "ipython",
    "version": 3
   },
   "file_extension": ".py",
   "mimetype": "text/x-python",
   "name": "python",
   "nbconvert_exporter": "python",
   "pygments_lexer": "ipython3",
   "version": "3.8.8"
  }
 },
 "nbformat": 4,
 "nbformat_minor": 5
}
